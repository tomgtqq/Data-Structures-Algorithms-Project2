{
 "cells": [
  {
   "cell_type": "markdown",
   "metadata": {},
   "source": [
    "### Finding Files\n",
    "For this problem, the goal is to write code for finding all files under a directory (and all directories beneath it) that end with \".c\"\n",
    "\n",
    "Here is an example of a test directory listing, which can be downloaded here:\n",
    "```\n",
    "./testdir\n",
    "./testdir/subdir1\n",
    "./testdir/subdir1/a.c\n",
    "./testdir/subdir1/a.h\n",
    "./testdir/subdir2\n",
    "./testdir/subdir2/.gitkeep\n",
    "./testdir/subdir3\n",
    "./testdir/subdir3/subsubdir1\n",
    "./testdir/subdir3/subsubdir1/b.c\n",
    "./testdir/subdir3/subsubdir1/b.h\n",
    "./testdir/subdir4\n",
    "./testdir/subdir4/.gitkeep\n",
    "./testdir/subdir5\n",
    "./testdir/subdir5/a.c\n",
    "./testdir/subdir5/a.h\n",
    "./testdir/t1.c\n",
    "./testdir/t1.h\n",
    "```\n",
    "\n",
    "Python's os module will be useful—in particular, you may want to use the following resources:\n",
    "\n",
    "[os.path.isdir(path)](https://docs.python.org/3.7/library/os.path.html#os.path.isdir)\n",
    "\n",
    "[os.path.isfile(path)](https://docs.python.org/3.7/library/os.path.html#os.path.isdir)\n",
    "\n",
    "[os.listdir(directory)](https://docs.python.org/3.7/library/os.html#os.listdir)\n",
    "\n",
    "[os.path.join(...)](https://docs.python.org/3.7/library/os.path.html#os.path.join)\n",
    "\n",
    "Note: os.walk() is a handy Python method which can achieve this task very easily. However, for this problem you are not allowed to use os.walk().\n",
    "\n",
    "Here is some code for the function to get you started:"
   ]
  },
  {
   "cell_type": "markdown",
   "metadata": {},
   "source": [
    "#### Analyze:\n",
    "I need to find a recursion solution to solve the problem . so I need to solve smaller instances of the same problem. if there is one file in the folder. I need to find that file with given \"suffix\" and return it.\n",
    "if there is one folder in the folder. I need to involve calling the funciton from within itself and wait to get \"output\" until searching all folders and return all the results.\n",
    "\n",
    "Subtask:\n",
    "1. find where invoking funciton \n",
    "2. define base case\n",
    "3. change input\n",
    "All operations take O(n) time complexity and there is a expanding char list, so the space complexity is O(n) "
   ]
  },
  {
   "cell_type": "code",
   "execution_count": 157,
   "metadata": {},
   "outputs": [],
   "source": [
    "import os\n",
    "\n",
    "def find_files(suffix, path):\n",
    "    \"\"\"\n",
    "    Find all files beneath path with file name suffix.\n",
    "\n",
    "    Note that a path may contain further subdirectories\n",
    "    and those subdirectories may also contain further subdirectories.\n",
    "\n",
    "    There are no limit to the depth of the subdirectories can be.\n",
    "\n",
    "    Args:\n",
    "      suffix(str): suffix if the file name to be found\n",
    "      path(str): path of the file system\n",
    "\n",
    "    Returns:\n",
    "       a list of paths\n",
    "    \"\"\"\n",
    "    pathsList = []\n",
    "    \n",
    "    if os.path.isfile(path):\n",
    "        if path.endswith(suffix):\n",
    "            return[path]\n",
    "        \n",
    "    if os.path.isdir(path):\n",
    "        for item in os.listdir(path):\n",
    "            subPath = os.path.join(path, item)\n",
    "            pathsList.extend(find_files(suffix, subPath))\n",
    "        \n",
    "    return pathsList"
   ]
  },
  {
   "cell_type": "code",
   "execution_count": 158,
   "metadata": {},
   "outputs": [
    {
     "data": {
      "text/plain": [
       "['./testdir/subdir3/subsubdir1/b.c',\n",
       " './testdir/t1.c',\n",
       " './testdir/subdir5/a.c',\n",
       " './testdir/subdir1/a.c',\n",
       " './testdir/subdir1/b.c']"
      ]
     },
     "execution_count": 158,
     "metadata": {},
     "output_type": "execute_result"
    }
   ],
   "source": [
    "find_files('.c','./testdir')"
   ]
  },
  {
   "cell_type": "markdown",
   "metadata": {},
   "source": [
    "#### OS Module Exploration Code"
   ]
  },
  {
   "cell_type": "code",
   "execution_count": 81,
   "metadata": {},
   "outputs": [
    {
     "name": "stdout",
     "output_type": "stream",
     "text": [
      "['subdir4', 'subdir3', 't1.c', 'subdir2', 'subdir5', 't1.h', 'subdir1']\n",
      "True\n",
      "True\n"
     ]
    }
   ],
   "source": [
    "## Locally save and call this file ex.py ##\n",
    "\n",
    "# Code to demonstrate the use of some of the OS modules in python\n",
    "\n",
    "import os\n",
    "\n",
    "# Let us print the files in the directory in which you are running this script\n",
    "print (os.listdir(\"./testdir\"))\n",
    "\n",
    "# Let us check if this file is indeed a file!\n",
    "print (os.path.isfile(\"./testdir/t1.c\"))\n",
    "\n",
    "# Does the file end with .py?\n",
    "print (\"./.py\".endswith(\".py\"))"
   ]
  },
  {
   "cell_type": "code",
   "execution_count": null,
   "metadata": {},
   "outputs": [],
   "source": []
  }
 ],
 "metadata": {
  "kernelspec": {
   "display_name": "Python 3",
   "language": "python",
   "name": "python3"
  },
  "language_info": {
   "codemirror_mode": {
    "name": "ipython",
    "version": 3
   },
   "file_extension": ".py",
   "mimetype": "text/x-python",
   "name": "python",
   "nbconvert_exporter": "python",
   "pygments_lexer": "ipython3",
   "version": "3.7.4"
  }
 },
 "nbformat": 4,
 "nbformat_minor": 2
}
