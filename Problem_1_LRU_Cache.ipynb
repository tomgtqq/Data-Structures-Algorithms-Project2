{
 "cells": [
  {
   "cell_type": "markdown",
   "metadata": {},
   "source": [
    "### Probelm 1: LRU Cache\n",
    "\n",
    "We have briefly discussed caching as part of a practice problem while studying hash maps.\n",
    "\n",
    "The lookup operation (i.e., get()) and put() / set() is supposed to be fast for a cache memory.\n",
    "\n",
    "While doing the get() operation, if the entry is found in the cache, it is known as a cache hit. If, however, the entry is not found, it is known as a cache miss.\n",
    "\n",
    "When designing a cache, we also place an upper bound on the size of the cache. If the cache is full and we want to add a new entry to the cache, we use some criteria to remove an element. After removing an element, we use the put() operation to insert the new element. The remove operation should also be fast.\n",
    "\n",
    "For our first problem, the goal will be to design a data structure known as a Least Recently Used (LRU) cache. An LRU cache is a type of cache in which we remove the least recently used entry when the cache memory reaches its limit. For the current problem, consider both get and set operations as an use operation.\n",
    "\n",
    "Your job is to use an appropriate data structure(s) to implement the cache.\n",
    "\n",
    "In case of a cache hit, your get() operation should return the appropriate value.\n",
    "In case of a cache miss, your get() should return -1.\n",
    "While putting an element in the cache, your put() / set() operation must insert the element. If the cache is full, you must write code that removes the least recently used entry first and then insert the element.\n",
    "All operations must take O(1) time.\n",
    "\n",
    "For the current problem, you can consider the size of cache = 5.\n",
    "\n",
    "Here is some boiler plate code and some example test cases to get you started on this problem:"
   ]
  },
  {
   "cell_type": "markdown",
   "metadata": {},
   "source": [
    "#### Analyze:\n",
    "I need to design the stored elements in some sort of sturcture, becasue I need to find the least recently used entry. The LinkedList has a order data sturcture. I need to keep track of what's the next item. so I need to move the used node to the list head. and I'd better used double linked list to easly move the node. All operations must take O(1) time, So I can't use a while loop to find the node. where the inefficiency is , how can I do some thing to address that inefficiency and make it more efficient. so I need to a cache map to get data immediately.\n",
    "\n",
    "Subtask:\n",
    "1. DLinkedList to track the order\n",
    "2. Cache mamp to get the data immediately\n",
    "\n",
    "All operations take O(1) time complexity and there is a Double linked list . so the space complexity is linear O(n)"
   ]
  },
  {
   "cell_type": "code",
   "execution_count": 107,
   "metadata": {},
   "outputs": [],
   "source": [
    "class DLinkedNode(object):\n",
    "    def __init__(self, key=None, value=None):\n",
    "        self.key = key\n",
    "        self.value = value\n",
    "        self.next = None\n",
    "        self.previous = None"
   ]
  },
  {
   "cell_type": "code",
   "execution_count": 116,
   "metadata": {},
   "outputs": [],
   "source": [
    "class LRU_Cache(object):\n",
    "\n",
    "    def __init__(self, capacity):\n",
    "        # Initialize class variables\n",
    "        self.capacity = capacity\n",
    "        self.size = 0\n",
    "        self.cache = {}\n",
    "    \n",
    "        self.head, self.tail = DLinkedNode(), DLinkedNode()\n",
    "        self.head.next = self.tail\n",
    "        self.tail.previous = self.head\n",
    "\n",
    "    def _add_node(self, node):\n",
    "        # add new node into DLinkedNode\n",
    "        node.next = self.head.next\n",
    "        self.head.next.previous = node\n",
    "        \n",
    "        node.previous = self.head\n",
    "        self.head.next = node\n",
    "\n",
    "    def _remove_node(self, node):\n",
    "        # remove node from DLinkedNode\n",
    "        node.next.previous = node.previous\n",
    "        node.previous.next = node.next\n",
    "\n",
    "    def _move_to_head(self, node):\n",
    "        # move node to DLinkedNode's head\n",
    "        self._remove_node(node)\n",
    "        self._add_node(node)\n",
    "        \n",
    "    def _pop_tail(self):\n",
    "        # pop the tial node that removes the least recently used entry\n",
    "        node = self.tail.previous\n",
    "        self._remove_node(node)\n",
    "        return node\n",
    "    \n",
    "    def get(self, key):\n",
    "        # Retrieve item from provided key. Return -1 if nonexistent. \n",
    "        node = self.cache.get(key)\n",
    "        if not node :\n",
    "            return -1\n",
    "        \n",
    "        self._move_to_head(node)\n",
    "        return node.value\n",
    "        \n",
    "    def set(self, key, value):\n",
    "        # Set the value if the key is not present in the cache. If the cache is at capacity remove the oldest item. \n",
    "        node = self.cache.get(key)\n",
    "        \n",
    "        if not node:\n",
    "            new_node = DLinkedNode(key, value)\n",
    "            if self.size >= self.capacity:\n",
    "                # delete the last node of DLinkedList \n",
    "                del_node = self._pop_tail()\n",
    "                del self.cache[del_node.key]\n",
    "                self.size -= 1 \n",
    "                \n",
    "            # add the new node \n",
    "            self._add_node(new_node)\n",
    "            self.cache[key] = new_node\n",
    "            self.size += 1 \n",
    "            \n",
    "        else:\n",
    "            # update value by key \n",
    "            node.value = value\n",
    "            self._move_to_head(node)\n",
    "            "
   ]
  },
  {
   "cell_type": "code",
   "execution_count": 117,
   "metadata": {},
   "outputs": [],
   "source": [
    "our_cache = LRU_Cache(5)\n",
    "\n",
    "our_cache.set(1, 1);\n",
    "our_cache.set(2, 2);\n",
    "our_cache.set(3, 3);\n",
    "our_cache.set(4, 4);"
   ]
  },
  {
   "cell_type": "code",
   "execution_count": 118,
   "metadata": {},
   "outputs": [
    {
     "data": {
      "text/plain": [
       "1"
      ]
     },
     "execution_count": 118,
     "metadata": {},
     "output_type": "execute_result"
    }
   ],
   "source": [
    "our_cache.get(1)       # returns 1"
   ]
  },
  {
   "cell_type": "code",
   "execution_count": 119,
   "metadata": {},
   "outputs": [
    {
     "data": {
      "text/plain": [
       "2"
      ]
     },
     "execution_count": 119,
     "metadata": {},
     "output_type": "execute_result"
    }
   ],
   "source": [
    "our_cache.get(2)       # returns 2"
   ]
  },
  {
   "cell_type": "code",
   "execution_count": 120,
   "metadata": {},
   "outputs": [
    {
     "data": {
      "text/plain": [
       "-1"
      ]
     },
     "execution_count": 120,
     "metadata": {},
     "output_type": "execute_result"
    }
   ],
   "source": [
    "our_cache.get(9)      # returns -1 because 9 is not present in the cache"
   ]
  },
  {
   "cell_type": "code",
   "execution_count": 121,
   "metadata": {},
   "outputs": [],
   "source": [
    "our_cache.set(5, 5) \n",
    "our_cache.set(6, 6)"
   ]
  },
  {
   "cell_type": "code",
   "execution_count": 122,
   "metadata": {},
   "outputs": [
    {
     "data": {
      "text/plain": [
       "-1"
      ]
     },
     "execution_count": 122,
     "metadata": {},
     "output_type": "execute_result"
    }
   ],
   "source": [
    "our_cache.get(3)      # returns -1 because the cache reached it's capacity and 3 was the least recently used entry"
   ]
  }
 ],
 "metadata": {
  "kernelspec": {
   "display_name": "Python 3",
   "language": "python",
   "name": "python3"
  },
  "language_info": {
   "codemirror_mode": {
    "name": "ipython",
    "version": 3
   },
   "file_extension": ".py",
   "mimetype": "text/x-python",
   "name": "python",
   "nbconvert_exporter": "python",
   "pygments_lexer": "ipython3",
   "version": "3.7.4"
  }
 },
 "nbformat": 4,
 "nbformat_minor": 2
}
