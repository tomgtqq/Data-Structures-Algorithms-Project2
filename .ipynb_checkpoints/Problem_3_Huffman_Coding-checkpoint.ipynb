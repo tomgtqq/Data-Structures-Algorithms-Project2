{
 "cells": [
  {
   "cell_type": "markdown",
   "metadata": {},
   "source": [
    "### Huffman Coding\n",
    "A Huffman code is a type of optimal prefix code that is used for compressing data. The Huffman encoding and decoding schema is also lossless, meaning that when compressing the data to make it smaller, there is no loss of information.\n",
    "\n",
    "The Huffman algorithm works by assigning codes that correspond to the relative frequency of each character for each character. The Huffman code can be of any length and does not require a prefix; therefore, this binary code can be visualized on a binary tree with each encoded character being stored on leafs.\n",
    "\n",
    "There are many types of pseudocode for this algorithm. At the basic core, it is comprised of building a Huffman tree, encoding the data, and, lastly, decoding the data.\n",
    "\n",
    "Here is one type of pseudocode for this coding schema:\n",
    "\n",
    " - Take a string and determine the relevant frequencies of the characters.\n",
    " - Build and sort a list of tuples from lowest to highest frequencies.\n",
    " - Build the Huffman Tree by assigning a binary code to each letter, using shorter codes for the more frequent letters. (This is the heart of the Huffman algorithm.)\n",
    " - Trim the Huffman Tree (remove the frequencies from the previously built tree).\n",
    " - Encode the text into its compressed form.\n",
    " - Decode the text from its compressed form.\n",
    "You then will need to create encoding, decoding, and sizing schemas.\n",
    "\n",
    "#### Analyze:\n",
    "I need to calculate the frequency of each character in the string , so I used Counter . and then I need a sorted list for huffman coding. and I choise the lestest frequency tow item from list. I need to create huffman tree to encoding my data.  so I create a Node class and Tree class. I made each unique character as a leaf node.\n",
    "\n",
    "1. \"huffman_encoding\" takes O(n) ,because I using a while loop to create tree and \"huffman_decoding\" takes O(n)\n",
    "\n",
    "2. The tree is expending data structures. I think the space complexity is O(n) "
   ]
  },
  {
   "cell_type": "code",
   "execution_count": 474,
   "metadata": {},
   "outputs": [],
   "source": [
    "import sys\n",
    "from collections import Counter\n",
    "\n",
    "class HuffManTreeNode(object):\n",
    "    # define a Tree without value and store data by leaf node\n",
    "    def __init__(self, left=None, right=None):\n",
    "        self.left = left\n",
    "        self.right = right\n",
    "        \n",
    "    def set_left_child(self,left):\n",
    "        self.left = left\n",
    "    \n",
    "    def get_left_child(self):\n",
    "        return self.left\n",
    "    \n",
    "    def set_right_child(self,right):\n",
    "        self.right = right\n",
    "    \n",
    "    def get_right_child(self):\n",
    "        return self.right\n",
    "    "
   ]
  },
  {
   "cell_type": "code",
   "execution_count": 475,
   "metadata": {},
   "outputs": [],
   "source": [
    "class HuffManTree(object):\n",
    "    def __init__(self, data=None):\n",
    "        self.frequencies = sorted(Counter(data).most_common(), key=lambda x: x[1])\n",
    "        \n",
    "    def get_tree_root(self):\n",
    "        while len(self.frequencies) > 1:\n",
    "            # create subtree from the lowest frequencies node to the highest frequencies node \n",
    "            (key1, freq1) = self.frequencies[0]\n",
    "            (key2, freq2) = self.frequencies[1]\n",
    "            self.frequencies = self.frequencies[2:]\n",
    "            \n",
    "            # The keys are string type in leaf node, otherwise are node type\n",
    "            left_node = key1\n",
    "            right_node = key2\n",
    "            node = HuffManTreeNode(left_node, right_node)\n",
    "\n",
    "            self.frequencies.append((node, freq1+freq2))\n",
    "            self.frequencies = sorted(self.frequencies, key=lambda x: x[1])\n",
    "\n",
    "        return self.frequencies[0][0]"
   ]
  },
  {
   "cell_type": "code",
   "execution_count": 476,
   "metadata": {},
   "outputs": [],
   "source": [
    "def huffman_encoding_recursion(node, code=''):\n",
    "    \"\"\"\n",
    "    Encoding characters using recursion\n",
    "    Args:\n",
    "      node(HuffManTreeNode):  leaf to save data and non-leaf node assign 0 and 1 to edges\n",
    "      code(str): Assign 0 to the left edge and 1 to the right edge \n",
    "\n",
    "    Returns:\n",
    "      encode_map(dict) : huffman coding map table\n",
    "    \"\"\"\n",
    "    if type(node) is str:\n",
    "        return {node: code}\n",
    "    \n",
    "    encode_map = dict()\n",
    "    \n",
    "    left_node = node.get_left_child()\n",
    "    right_node = node.get_right_child()\n",
    "    \n",
    "    encode_map.update(huffman_encoding_recursion(left_node, code + '0'))\n",
    "    encode_map.update(huffman_encoding_recursion(right_node, code + '1'))\n",
    "    return encode_map\n",
    "    "
   ]
  },
  {
   "cell_type": "code",
   "execution_count": 477,
   "metadata": {},
   "outputs": [],
   "source": [
    "def huffman_encoding(data):\n",
    "    if not data:\n",
    "        return\n",
    "    \n",
    "    huffman_tree = HuffManTree(data)\n",
    "    root_node = huffman_tree.get_tree_root()\n",
    "    encode_map = huffman_encoding_recursion(root_node)\n",
    "    \n",
    "    encoded_list = [encode_map[c] for c in data]\n",
    "    encoded_string = ''.join(encoded_list)\n",
    " \n",
    "    return(encoded_string, root_node)\n",
    "    "
   ]
  },
  {
   "cell_type": "code",
   "execution_count": 478,
   "metadata": {},
   "outputs": [],
   "source": [
    "def huffman_decoding(data,root):\n",
    "    node = root\n",
    "    decoded_data = ''\n",
    "\n",
    "    for b in data:   \n",
    "        if b == '0' and type(node) is HuffManTreeNode:\n",
    "            node = node.get_left_child()\n",
    "\n",
    "        elif b == '1' and type(node) is HuffManTreeNode:\n",
    "            node = node.get_right_child()\n",
    "        \n",
    "        if type(node) is str:\n",
    "            decoded_data += node\n",
    "            node = root\n",
    "\n",
    "    return decoded_data"
   ]
  },
  {
   "cell_type": "code",
   "execution_count": 479,
   "metadata": {},
   "outputs": [
    {
     "name": "stdout",
     "output_type": "stream",
     "text": [
      "The size of the data is: 69\n",
      "\n",
      "The content of the data is: The bird is the word\n",
      "\n",
      "The size of the encoded data is: 36\n",
      "\n",
      "The content of the encoded data is: 0110111011111100111000001010110000100011010011110111111010101011001010\n",
      "\n",
      "The size of the decoded data is: 69\n",
      "\n",
      "The content of the encoded data is: The bird is the word\n",
      "\n"
     ]
    }
   ],
   "source": [
    "if __name__ == \"__main__\":\n",
    "    codes = {}\n",
    "\n",
    "    a_great_sentence = \"The bird is the word\"\n",
    "\n",
    "    print (\"The size of the data is: {}\\n\".format(sys.getsizeof(a_great_sentence)))\n",
    "    print (\"The content of the data is: {}\\n\".format(a_great_sentence))\n",
    "\n",
    "    encoded_data, tree = huffman_encoding(a_great_sentence)\n",
    "\n",
    "    print (\"The size of the encoded data is: {}\\n\".format(sys.getsizeof(int(encoded_data, base=2))))\n",
    "    print (\"The content of the encoded data is: {}\\n\".format(encoded_data))\n",
    "\n",
    "    decoded_data = huffman_decoding(encoded_data, tree)\n",
    "\n",
    "    print (\"The size of the decoded data is: {}\\n\".format(sys.getsizeof(decoded_data)))\n",
    "    print (\"The content of the encoded data is: {}\\n\".format(decoded_data))"
   ]
  },
  {
   "cell_type": "code",
   "execution_count": 480,
   "metadata": {},
   "outputs": [
    {
     "name": "stdout",
     "output_type": "stream",
     "text": [
      "The size of the data is: 494\n",
      "\n",
      "The content of the data is: Lorem ipsum dolor sit amet, consectetur adipiscing elit, sed do eiusmod tempor incididunt ut labore et dolore magna aliqua. Ut enim ad minim veniam, quis nostrud exercitation ullamco laboris nisi ut aliquip ex ea commodo consequat. Duis aute irure dolor in reprehenderit in voluptate velit esse cillum dolore eu fugiat nulla pariatur. Excepteur sint occaecat cupidatat non proident, sunt in culpa qui officia deserunt mollit anim id est laborum.\n",
      "\n",
      "The size of the encoded data is: 272\n",
      "\n",
      "The content of the encoded data is: 01101101010000100111110111110001000011110001111011111011101100000011000010011011100001101011010011011111111010011011111010110100001011110011111011010101111101001110100110100111101001000010011110010110001010101100011101111000100110100110111110111001111111011101110110001101111001011111100101111000111011101010111110111000011000010011000101011011000111101001111010111010110101100111101011000011001011001010000100111111011111010110111011000000110000100111111010111100101100010101100111010010001001000001011110010000001100110110111010110111101010011011111010011110111010111001010100110111110011001111110101001100110111011011111000000101110011110011001011000111001010010001111110111011110110100111101001011000110101001101000110000101110011100010001100110111101101000110000110010110010100001000011110011001010011110000111001111010110100100010010000010111001000011101111011010011011111001110101101000101111011110001110110001101011010000101111001111000001011110011010000000110011000000111001111001101001011110101111110001010001110100111111011101100000011000010011000101011100100111100001010011110110000111110101111011111010000110101100010101110011001110000001011100001101010011010111111001100111111000100110101101111111001110011111101011000100010001011110111110111011000000110000100111111011110111110011010101110110001001100110101100101011100010001100111000001100101000011001101001110100000000110011011000110100101101111000011010111101110100110111000010101101011010001011010110100111111011010011010110101100111000010011110110011010100110101100101100001011100000101001000001111011111010110100110111110111000111010110101100010101110101100111000100001100111000000101110011101000011010101101010011011000110011101110111111110011110100011101011010110101111000000100010011010110100101010011011111000111101110111111100101011000011001011001010000100011110111000000\n",
      "\n",
      "The size of the decoded data is: 494\n",
      "\n",
      "The content of the encoded data is: Lorem ipsum dolor sit amet, consectetur adipiscing elit, sed do eiusmod tempor incididunt ut labore et dolore magna aliqua. Ut enim ad minim veniam, quis nostrud exercitation ullamco laboris nisi ut aliquip ex ea commodo consequat. Duis aute irure dolor in reprehenderit in voluptate velit esse cillum dolore eu fugiat nulla pariatur. Excepteur sint occaecat cupidatat non proident, sunt in culpa qui officia deserunt mollit anim id est laborum.\n",
      "\n"
     ]
    }
   ],
   "source": [
    "    codes = {}\n",
    "    \n",
    "    a_great_sentence = \"Lorem ipsum dolor sit amet, consectetur adipiscing elit, sed do eiusmod tempor incididunt ut labore et dolore magna aliqua. Ut enim ad minim veniam, quis nostrud exercitation ullamco laboris nisi ut aliquip ex ea commodo consequat. Duis aute irure dolor in reprehenderit in voluptate velit esse cillum dolore eu fugiat nulla pariatur. Excepteur sint occaecat cupidatat non proident, sunt in culpa qui officia deserunt mollit anim id est laborum.\"\n",
    "\n",
    "    print (\"The size of the data is: {}\\n\".format(sys.getsizeof(a_great_sentence)))\n",
    "    print (\"The content of the data is: {}\\n\".format(a_great_sentence))\n",
    "\n",
    "    encoded_data, tree = huffman_encoding(a_great_sentence)\n",
    "\n",
    "    print (\"The size of the encoded data is: {}\\n\".format(sys.getsizeof(int(encoded_data, base=2))))\n",
    "    print (\"The content of the encoded data is: {}\\n\".format(encoded_data))\n",
    "\n",
    "    decoded_data = huffman_decoding(encoded_data, tree)\n",
    "\n",
    "    print (\"The size of the decoded data is: {}\\n\".format(sys.getsizeof(decoded_data)))\n",
    "    print (\"The content of the encoded data is: {}\\n\".format(decoded_data))"
   ]
  },
  {
   "cell_type": "code",
   "execution_count": 483,
   "metadata": {},
   "outputs": [
    {
     "name": "stdout",
     "output_type": "stream",
     "text": [
      "The size of the data is: 111\n",
      "\n",
      "The content of the data is: ><?skdownnf()_()_*&^^%%%$$$###@@@_)(*^%$$@!~><MNNB)7783292jdj \n",
      "\n",
      "The size of the encoded data is: 64\n",
      "\n",
      "The content of the encoded data is: 0011101110101100101101101110011111011111100001000010000110001111110100000011111010000001000111001000010001010101010101111011101110001000100010011001100110000001001111110001000101011110111001101100111101000011101110110101100101001011011001001001110011110111111100101001111011010010101011111010100110\n",
      "\n",
      "The size of the decoded data is: 111\n",
      "\n",
      "The content of the encoded data is: ><?skdownnf()_()_*&^^%%%$$$###@@@_)(*^%$$@!~><MNNB)7783292jdj \n",
      "\n"
     ]
    }
   ],
   "source": [
    "    codes = {}\n",
    "    \n",
    "    a_great_sentence = \"><?skdownnf()_()_*&^^%%%$$$###@@@_)(*^%$$@!~><MNNB)7783292jdj \"\n",
    "\n",
    "    print (\"The size of the data is: {}\\n\".format(sys.getsizeof(a_great_sentence)))\n",
    "    print (\"The content of the data is: {}\\n\".format(a_great_sentence))\n",
    "\n",
    "    encoded_data, tree = huffman_encoding(a_great_sentence)\n",
    "\n",
    "    print (\"The size of the encoded data is: {}\\n\".format(sys.getsizeof(int(encoded_data, base=2))))\n",
    "    print (\"The content of the encoded data is: {}\\n\".format(encoded_data))\n",
    "\n",
    "    decoded_data = huffman_decoding(encoded_data, tree)\n",
    "\n",
    "    print (\"The size of the decoded data is: {}\\n\".format(sys.getsizeof(decoded_data)))\n",
    "    print (\"The content of the encoded data is: {}\\n\".format(decoded_data))"
   ]
  },
  {
   "cell_type": "markdown",
   "metadata": {},
   "source": [
    "#### Resources\n",
    "[Huffman Visualization](https://people.ok.ubc.ca/ylucet/DS/Huffman.html)"
   ]
  },
  {
   "cell_type": "code",
   "execution_count": null,
   "metadata": {},
   "outputs": [],
   "source": []
  }
 ],
 "metadata": {
  "kernelspec": {
   "display_name": "Python 3",
   "language": "python",
   "name": "python3"
  },
  "language_info": {
   "codemirror_mode": {
    "name": "ipython",
    "version": 3
   },
   "file_extension": ".py",
   "mimetype": "text/x-python",
   "name": "python",
   "nbconvert_exporter": "python",
   "pygments_lexer": "ipython3",
   "version": "3.7.4"
  }
 },
 "nbformat": 4,
 "nbformat_minor": 2
}
