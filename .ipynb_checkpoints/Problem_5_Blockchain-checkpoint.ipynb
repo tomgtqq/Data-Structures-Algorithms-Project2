{
 "cells": [
  {
   "cell_type": "markdown",
   "metadata": {},
   "source": [
    "### Blockchain\n",
    "A Blockchain is a sequential chain of records, similar to a linked list. Each block contains some information and how it is connected related to the other blocks in the chain. Each block contains a cryptographic hash of the previous block, a timestamp, and transaction data. For our blockchain we will be using a SHA-256 hash, the Greenwich Mean Time when the block was created, and text strings as the data.\n",
    "\n",
    "Use your knowledge of linked lists and hashing to create a blockchain implementation.\n",
    "\n",
    "![image](src/untitled-diagram.png)\n"
   ]
  },
  {
   "cell_type": "markdown",
   "metadata": {},
   "source": [
    "##### Analyze:\n",
    "\n",
    "I need to create a private blockchain. luckily I have a Blochchian ND of udacity. I need to create a Block class and Blockchain class. I choise list for Blockchain . because I can search Block by height (O(1) time complexity). and the block has been sorted by append order.  I need to linked each block by hash. so I need to previous block an then hash current block . at last the Block add to Blockchain.\n",
    "\n",
    "The function **add_block()** , **get_block()** takes O(1) time complexity.\n",
    "\n",
    "I think it's linear space complexity O(n) , 1 expanding list."
   ]
  },
  {
   "cell_type": "code",
   "execution_count": 73,
   "metadata": {},
   "outputs": [],
   "source": [
    "import time\n",
    "\n",
    "class Block:\n",
    "    def __init__(self, data):\n",
    "        self.hash = \"\"\n",
    "        self.height = 0\n",
    "        self.body = data\n",
    "        self.time = time.time()\n",
    "        self.previousblockhash = \"\"\n",
    "    \n",
    "    def __repr__(self):\n",
    "        return str(self.__dict__)"
   ]
  },
  {
   "cell_type": "code",
   "execution_count": 79,
   "metadata": {},
   "outputs": [],
   "source": [
    "import hashlib\n",
    "\n",
    "class Blockchain:\n",
    "    def __init__(self):\n",
    "        self.chain = []\n",
    "        self.add_block(Block(\"Genesis block\"))\n",
    "    \n",
    "    def add_block(self, new_block):\n",
    "        new_block.height =  len(self.chain)\n",
    "        \n",
    "        if(len(self.chain) > 0):\n",
    "            new_block.previousblockhash = self.chain[len(self.chain)-1].hash\n",
    "        \n",
    "        new_block.hash = self._calc_hash(new_block)\n",
    "        self.chain.append(new_block)\n",
    "        \n",
    "    def get_block(self, height):\n",
    "        return self.chain[height]\n",
    "        \n",
    "    def _calc_hash(self,data):\n",
    "        sha = hashlib.sha256()\n",
    "        hash_str = repr(data).encode('utf-8')\n",
    "        sha.update(hash_str)\n",
    "        return sha.hexdigest()\n",
    "    \n",
    "    def __repr__(self):\n",
    "        return str(self.__dict__)"
   ]
  },
  {
   "cell_type": "code",
   "execution_count": 80,
   "metadata": {},
   "outputs": [
    {
     "name": "stdout",
     "output_type": "stream",
     "text": [
      "[{'hash': '4a9b8729ff7e6726cf299f7c0850c4916176411c32e67beb19757607b0f1ac89', 'height': 0, 'body': 'Genesis block', 'time': 1583729331.538935, 'previousblockhash': ''}]\n"
     ]
    }
   ],
   "source": [
    "# Create a private blockchain, there is a genesis block when inital \n",
    "private_blockchain = Blockchain()\n",
    "print(private_blockchain.chain)"
   ]
  },
  {
   "cell_type": "code",
   "execution_count": 81,
   "metadata": {},
   "outputs": [
    {
     "name": "stdout",
     "output_type": "stream",
     "text": [
      "{'hash': '', 'height': 0, 'body': 'First Block', 'time': 1583729332.562541, 'previousblockhash': ''}\n",
      "{'hash': '', 'height': 0, 'body': 'Second Block', 'time': 1583729332.562569, 'previousblockhash': ''}\n",
      "{'hash': '', 'height': 0, 'body': 'Third Block', 'time': 1583729332.562592, 'previousblockhash': ''}\n",
      "{'hash': '', 'height': 0, 'body': 'Fourth Block', 'time': 1583729332.562613, 'previousblockhash': ''}\n",
      "{'hash': '', 'height': 0, 'body': 'Fifth Block', 'time': 1583729332.562633, 'previousblockhash': ''}\n",
      "{'hash': '', 'height': 0, 'body': 'Sixth Block', 'time': 1583729332.5626519, 'previousblockhash': ''}\n"
     ]
    }
   ],
   "source": [
    "block1 = Block(\"First Block\")\n",
    "block2 = Block(\"Second Block\")\n",
    "block3 = Block(\"Third Block\")\n",
    "block4 = Block(\"Fourth Block\")\n",
    "block5 = Block(\"Fifth Block\")\n",
    "block6 = Block(\"Sixth Block\")\n",
    "\n",
    "print(block1)\n",
    "print(block2)\n",
    "print(block3)\n",
    "print(block4)\n",
    "print(block5)\n",
    "print(block6)"
   ]
  },
  {
   "cell_type": "code",
   "execution_count": 82,
   "metadata": {},
   "outputs": [
    {
     "name": "stdout",
     "output_type": "stream",
     "text": [
      "{'chain': [{'hash': '4a9b8729ff7e6726cf299f7c0850c4916176411c32e67beb19757607b0f1ac89', 'height': 0, 'body': 'Genesis block', 'time': 1583729331.538935, 'previousblockhash': ''}, {'hash': '8dffff17dd29b8252e2c70928bfed9930cd1be93ef699e661cee0032fd71d514', 'height': 1, 'body': 'First Block', 'time': 1583729332.562541, 'previousblockhash': '4a9b8729ff7e6726cf299f7c0850c4916176411c32e67beb19757607b0f1ac89'}, {'hash': 'fe5dab970beac6c850fe919b0014930e59706abb294b763017887981105a617a', 'height': 2, 'body': 'Second Block', 'time': 1583729332.562569, 'previousblockhash': '8dffff17dd29b8252e2c70928bfed9930cd1be93ef699e661cee0032fd71d514'}, {'hash': 'b8b5978126b77a9521171688d8b55f8e2d9fc7abd5fa9d44e00c4f503d41c02f', 'height': 3, 'body': 'Third Block', 'time': 1583729332.562592, 'previousblockhash': 'fe5dab970beac6c850fe919b0014930e59706abb294b763017887981105a617a'}, {'hash': '507818c692885b0652d14f0e715652779a49eb0b197e7d165930eae3bf6edd72', 'height': 4, 'body': 'Fourth Block', 'time': 1583729332.562613, 'previousblockhash': 'b8b5978126b77a9521171688d8b55f8e2d9fc7abd5fa9d44e00c4f503d41c02f'}, {'hash': 'c5ed93838c382a4f774e4fee3a51668468bb7d221279824a441c7b6bb782a6ec', 'height': 5, 'body': 'Fifth Block', 'time': 1583729332.562633, 'previousblockhash': '507818c692885b0652d14f0e715652779a49eb0b197e7d165930eae3bf6edd72'}, {'hash': '64ca6fc68570a52522f8f55b81c572089297e4fb4f0455b9ac2a3ec80c8001d4', 'height': 6, 'body': 'Sixth Block', 'time': 1583729332.5626519, 'previousblockhash': 'c5ed93838c382a4f774e4fee3a51668468bb7d221279824a441c7b6bb782a6ec'}]}\n"
     ]
    }
   ],
   "source": [
    "private_blockchain.add_block(block1)\n",
    "private_blockchain.add_block(block2)\n",
    "private_blockchain.add_block(block3)\n",
    "private_blockchain.add_block(block4)\n",
    "private_blockchain.add_block(block5)\n",
    "private_blockchain.add_block(block6)\n",
    "\n",
    "print(private_blockchain)"
   ]
  },
  {
   "cell_type": "code",
   "execution_count": 83,
   "metadata": {},
   "outputs": [
    {
     "name": "stdout",
     "output_type": "stream",
     "text": [
      "{'hash': 'b8b5978126b77a9521171688d8b55f8e2d9fc7abd5fa9d44e00c4f503d41c02f', 'height': 3, 'body': 'Third Block', 'time': 1583729332.562592, 'previousblockhash': 'fe5dab970beac6c850fe919b0014930e59706abb294b763017887981105a617a'}\n"
     ]
    }
   ],
   "source": [
    "print(private_blockchain.get_block(3))"
   ]
  }
 ],
 "metadata": {
  "kernelspec": {
   "display_name": "Python 3",
   "language": "python",
   "name": "python3"
  },
  "language_info": {
   "codemirror_mode": {
    "name": "ipython",
    "version": 3
   },
   "file_extension": ".py",
   "mimetype": "text/x-python",
   "name": "python",
   "nbconvert_exporter": "python",
   "pygments_lexer": "ipython3",
   "version": "3.7.4"
  }
 },
 "nbformat": 4,
 "nbformat_minor": 2
}
