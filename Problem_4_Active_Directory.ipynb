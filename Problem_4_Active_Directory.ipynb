{
 "cells": [
  {
   "cell_type": "markdown",
   "metadata": {},
   "source": [
    "### Active Directory\n",
    "In Windows Active Directory, a group can consist of user(s) and group(s) themselves. We can construct this hierarchy as such. Where User is represented by str representing their ids."
   ]
  },
  {
   "cell_type": "code",
   "execution_count": 156,
   "metadata": {},
   "outputs": [],
   "source": [
    "class Group(object):\n",
    "    def __init__(self, _name):\n",
    "        self.name = _name\n",
    "        self.groups = []\n",
    "        self.users = []\n",
    "\n",
    "    def add_group(self, group):\n",
    "        self.groups.append(group)\n",
    "\n",
    "    def add_user(self, user):\n",
    "        self.users.append(user)\n",
    "\n",
    "    def get_groups(self):\n",
    "        return self.groups\n",
    "\n",
    "    def get_users(self):\n",
    "        return self.users\n",
    "\n",
    "    def get_name(self):\n",
    "        return self.name"
   ]
  },
  {
   "cell_type": "markdown",
   "metadata": {},
   "source": [
    "#### Write a function that provides an efficient look up of whether the user is in a group.\n",
    "\n",
    "##### Analyze:\n",
    "I need to find a recursion solution with cache to solve the problem . recoding the check result by dict. if the \n",
    "group already be checked. didn't check the group again. \n",
    "\n",
    "Subtask:\n",
    "- Design recursion solution to check all groups\n",
    "- Define a cache to store the check result\n",
    "\n",
    "The function **is_user_in_group_recursion** takes O(n) time complexity, I think the \"for loop\" is O(n) and \"recursion solution\"is O(log(n)). using cache to check, the time complexity isn't O(nlog(n))\n",
    "\n",
    "I think it's linear space complexity O(n) , 2 list(),1 dict()."
   ]
  },
  {
   "cell_type": "code",
   "execution_count": 161,
   "metadata": {},
   "outputs": [],
   "source": [
    "def is_user_in_group(user, group):\n",
    "    \"\"\"\n",
    "    Return True if user is in the group, False otherwise.\n",
    "\n",
    "    Args:\n",
    "      user(str): user name/id\n",
    "      group(class:Group): group to check user membership against\n",
    "    \"\"\"\n",
    "    groups_dict = dict()\n",
    "    result = is_user_in_group_recursion(user, group, groups_dict)\n",
    "    groups_dict[group.get_name()] = result\n",
    "    return True in groups_dict.values()"
   ]
  },
  {
   "cell_type": "code",
   "execution_count": 158,
   "metadata": {},
   "outputs": [],
   "source": [
    "def is_user_in_group_recursion(user, group, groups_dict):\n",
    "    if user in group.get_users():\n",
    "        return True\n",
    "    else:\n",
    "        for sub_group in group.get_groups():\n",
    "             if sub_group.get_name() not in groups_dict:\n",
    "                result = is_user_in_group_recursion(user, sub_group, groups_dict)\n",
    "                groups_dict[sub_group.get_name()] = result    \n",
    "    return False"
   ]
  },
  {
   "cell_type": "code",
   "execution_count": 159,
   "metadata": {},
   "outputs": [
    {
     "name": "stdout",
     "output_type": "stream",
     "text": [
      "The sub_child_user in parent is True\n",
      "The sub_child_user in child is True\n",
      "The sub_child_user in sub_child is True\n"
     ]
    }
   ],
   "source": [
    "parent = Group(\"parent\")\n",
    "child = Group(\"child\")\n",
    "sub_child = Group(\"subchild\")\n",
    "\n",
    "sub_child_user = \"sub_child_user\"\n",
    "sub_child.add_user(sub_child_user)\n",
    "\n",
    "child.add_group(sub_child)\n",
    "parent.add_group(child)\n",
    "\n",
    "\n",
    "print('The sub_child_user in parent is {}'.format(is_user_in_group(\"sub_child_user\", parent)))\n",
    "print('The sub_child_user in child is {}'.format(is_user_in_group(\"sub_child_user\", child)))\n",
    "print('The sub_child_user in sub_child is {}'.format(is_user_in_group(\"sub_child_user\", sub_child)))"
   ]
  },
  {
   "cell_type": "code",
   "execution_count": 160,
   "metadata": {},
   "outputs": [
    {
     "name": "stdout",
     "output_type": "stream",
     "text": [
      "The sub_sub_child_3_user in sub_sub_child_3 is True\n",
      "The sub_sub_child_3_user in sub_child_3 is True\n",
      "The sub_sub_child_3_user in child_2 is True\n",
      "The sub_sub_child_3_user in parent is True\n",
      "The sub_sub_child_3_user in sub_child_1 is False\n",
      "The sub_sub_child_3_user in sub_child_2 is False\n",
      "The sub_sub_child_3_user in child_1 is False\n"
     ]
    }
   ],
   "source": [
    "parent = Group(\"parent\")\n",
    "\n",
    "child_1 = Group(\"child1\")\n",
    "child_2 = Group(\"child2\")\n",
    "\n",
    "sub_child_1 = Group(\"subchild1\")\n",
    "sub_child_2 = Group(\"subchild2\")\n",
    "sub_child_3 = Group(\"subchild3\")\n",
    "\n",
    "sub_sub_child_1 = Group(\"subsubchild1\")\n",
    "sub_sub_child_3 = Group(\"subsubchild3\")\n",
    "sub_sub_child_3.add_user(\"sub_sub_child_3_user\")\n",
    "\n",
    "sub_child_1.add_group(sub_sub_child_1)\n",
    "sub_child_3.add_group(sub_sub_child_3)\n",
    "\n",
    "child_1.add_group(sub_child_1)\n",
    "child_2.add_group(sub_child_2)\n",
    "child_2.add_group(sub_child_3)\n",
    "\n",
    "parent.add_group(child_1)\n",
    "parent.add_group(child_2)\n",
    "\n",
    "# should return True , sub_sub_child_3_user in sub_sub_child_3.users[]\n",
    "print('The sub_sub_child_3_user in sub_sub_child_3 is {}'.format(is_user_in_group(\"sub_sub_child_3_user\", sub_sub_child_3)))\n",
    "\n",
    "# should return True , sub_sub_child_3 's parent is sub_child_3\n",
    "print('The sub_sub_child_3_user in sub_child_3 is {}'.format(is_user_in_group(\"sub_sub_child_3_user\", sub_child_3)))\n",
    "\n",
    "# should return True , sub_sub_child_3 's grandparents is child_2\n",
    "print('The sub_sub_child_3_user in child_2 is {}'.format(is_user_in_group(\"sub_sub_child_3_user\", child_2)))\n",
    "\n",
    "# should return True , the parent is root group\n",
    "print('The sub_sub_child_3_user in parent is {}'.format(is_user_in_group(\"sub_sub_child_3_user\", parent)))\n",
    "\n",
    "# should return False, the sub_sub_child_3 's parent is sub_child_3\n",
    "print('The sub_sub_child_3_user in sub_child_1 is {}'.format(is_user_in_group(\"sub_sub_child_3_user\", sub_child_1)))\n",
    "\n",
    "# should return False, the sub_sub_child_3 's parent is sub_child_3\n",
    "print('The sub_sub_child_3_user in sub_child_2 is {}'.format(is_user_in_group(\"sub_sub_child_3_user\", sub_child_2)))\n",
    "\n",
    "# should return False, the sub_sub_child_3 's parent is sub_child_3\n",
    "print('The sub_sub_child_3_user in child_1 is {}'.format(is_user_in_group(\"sub_sub_child_3_user\", child_1)))"
   ]
  }
 ],
 "metadata": {
  "kernelspec": {
   "display_name": "Python 3",
   "language": "python",
   "name": "python3"
  },
  "language_info": {
   "codemirror_mode": {
    "name": "ipython",
    "version": 3
   },
   "file_extension": ".py",
   "mimetype": "text/x-python",
   "name": "python",
   "nbconvert_exporter": "python",
   "pygments_lexer": "ipython3",
   "version": "3.7.4"
  }
 },
 "nbformat": 4,
 "nbformat_minor": 2
}
