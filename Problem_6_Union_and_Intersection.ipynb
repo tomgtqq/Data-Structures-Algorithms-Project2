{
 "cells": [
  {
   "cell_type": "markdown",
   "metadata": {},
   "source": [
    "### Union and Intersection of Two Linked Lists\n",
    "Your task for this problem is to fill out the union and intersection functions. The union of two sets A and B is the set of elements which are in A, in B, or in both A and B. The intersection of two sets A and B, denoted by A ∩ B, is the set of all objects that are members of both the sets A and B.\n",
    "\n",
    "You will take in two linked lists and return a linked list that is composed of either the union or intersection, respectively. Once you have completed the problem you will create your own test cases and perform your own run time analysis on the code.\n",
    "\n",
    "We have provided a code template below, you are not required to use it:"
   ]
  },
  {
   "cell_type": "markdown",
   "metadata": {},
   "source": [
    "#### Analyze:\n",
    "I need to find a way to loop linked List and check element in another linked list. but it will take O(n^m)\n",
    "so I define a set to check already fund element. \n",
    "\n",
    "For \"Union\" operation. I need a new Linked list to union two linkedlist. becuase , don't change original linkedlist. \n",
    "\n",
    " - The function **intersection()** '2 while loop' takes less then O(n^m) time complexity.\n",
    " - The function **union()** 'while loop' takes O(n)+O(m) time complexity.\n",
    "\n",
    " - I think **intersection()** pointers take O(1) space complexity. \n",
    " - I think **union()** takes O(n), becuase don't want to change original LinkedList. so create a new Linked list to record the union of llist_1 and llist_2."
   ]
  },
  {
   "cell_type": "code",
   "execution_count": 20,
   "metadata": {},
   "outputs": [],
   "source": [
    "class Node:\n",
    "    def __init__(self, value):\n",
    "        self.value = value\n",
    "        self.next = None\n",
    "\n",
    "    def __repr__(self):\n",
    "        return str(self.value)\n",
    "    \n",
    "    def __eq__(self, other):\n",
    "        if self and other:\n",
    "            return self.value == other.value"
   ]
  },
  {
   "cell_type": "code",
   "execution_count": 21,
   "metadata": {},
   "outputs": [],
   "source": [
    "class LinkedList:\n",
    "    def __init__(self):\n",
    "        self.head = None\n",
    "\n",
    "    def append(self, value):\n",
    "\n",
    "        if self.head is None:\n",
    "            self.head = Node(value)\n",
    "            return\n",
    "\n",
    "        node = self.head\n",
    "        while node.next:\n",
    "            node = node.next\n",
    "\n",
    "        node.next = Node(value)\n",
    "\n",
    "    def size(self):\n",
    "        size = 0\n",
    "        node = self.head\n",
    "        while node:\n",
    "            size += 1\n",
    "            node = node.next\n",
    "\n",
    "        return size\n",
    "    \n",
    "    def __str__(self):\n",
    "        cur_head = self.head\n",
    "        out_string = \"\"\n",
    "        while cur_head:\n",
    "            if cur_head.next:\n",
    "                arrows = \" -> \"\n",
    "            else:\n",
    "                arrows = \"\"\n",
    "            out_string += str(cur_head.value) + arrows\n",
    "            cur_head = cur_head.next\n",
    "        return out_string"
   ]
  },
  {
   "cell_type": "code",
   "execution_count": 22,
   "metadata": {},
   "outputs": [],
   "source": [
    "def union(llist_1, llist_2):\n",
    "    \n",
    "    union_llist = LinkedList()\n",
    "    \n",
    "    p1 = llist_1.head\n",
    "    p2 = llist_2.head\n",
    "    \n",
    "    while p1:\n",
    "        union_llist.append(p1.value)\n",
    "        p1 = p1.next\n",
    "        \n",
    "    while p2:\n",
    "        union_llist.append(p2.value)\n",
    "        p2 = p2.next\n",
    "            \n",
    "    return union_llist"
   ]
  },
  {
   "cell_type": "code",
   "execution_count": 24,
   "metadata": {},
   "outputs": [],
   "source": [
    "def intersection(llist_1, llist_2):\n",
    "    \n",
    "    p1 = llist_1.head\n",
    "    llist_set = set()\n",
    "    \n",
    "    while p1:\n",
    "        if not p1.value in llist_set:\n",
    "            p2 = llist_2.head\n",
    "            while p2:\n",
    "                if p1 == p2:\n",
    "                    llist_set.add(p1.value)\n",
    "                p2 = p2.next\n",
    "        p1 = p1.next\n",
    "    \n",
    "    inter_llist = LinkedList()\n",
    "    for i in llist_set:\n",
    "        inter_llist.append(i)\n",
    "    \n",
    "    return inter_llist"
   ]
  },
  {
   "cell_type": "code",
   "execution_count": 25,
   "metadata": {},
   "outputs": [
    {
     "name": "stdout",
     "output_type": "stream",
     "text": [
      "------Linked Lists------\n",
      "[4, 1, 8, 4, 5]\n",
      "[5, 0, 1, 8, 4, 5]\n",
      "------Union result------\n",
      "4 -> 1 -> 8 -> 4 -> 5 -> 5 -> 0 -> 1 -> 8 -> 4 -> 5\n",
      "------Intersection result------\n",
      "8 -> 1 -> 4 -> 5\n"
     ]
    }
   ],
   "source": [
    "# Test case 1\n",
    "\n",
    "llist_1 = LinkedList()\n",
    "llist_2 = LinkedList()\n",
    "\n",
    "element_1 = [4,1,8,4,5]\n",
    "element_2 = [5,0,1,8,4,5]\n",
    "\n",
    "for i in element_1:\n",
    "    llist_1.append(i)\n",
    "\n",
    "for i in element_2:\n",
    "    llist_2.append(i)\n",
    "\n",
    "print('------Linked Lists------')    \n",
    "print(element_1)\n",
    "print(element_2)    \n",
    "    \n",
    "result1 = union(llist_1,llist_2)\n",
    "print('------Union result------')\n",
    "print(result1)    \n",
    "    \n",
    "result2 = intersection(llist_1,llist_2)\n",
    "print('------Intersection result------')\n",
    "print(result2)"
   ]
  },
  {
   "cell_type": "code",
   "execution_count": 26,
   "metadata": {},
   "outputs": [
    {
     "name": "stdout",
     "output_type": "stream",
     "text": [
      "------Linked Lists------\n",
      "[3, 2, 4, 35, 6, 65, 6, 4, 3, 21]\n",
      "[6, 32, 4, 9, 6, 1, 11, 21, 1]\n",
      "------Union result------\n",
      "3 -> 2 -> 4 -> 35 -> 6 -> 65 -> 6 -> 4 -> 3 -> 21 -> 6 -> 32 -> 4 -> 9 -> 6 -> 1 -> 11 -> 21 -> 1\n",
      "------Intersection result------\n",
      "4 -> 21 -> 6\n"
     ]
    }
   ],
   "source": [
    "# Test case 2\n",
    "\n",
    "linked_list_1 = LinkedList()\n",
    "linked_list_2 = LinkedList()\n",
    "\n",
    "element_1 = [3,2,4,35,6,65,6,4,3,21]\n",
    "element_2 = [6,32,4,9,6,1,11,21,1]\n",
    "\n",
    "for i in element_1:\n",
    "    linked_list_1.append(i)\n",
    "\n",
    "for i in element_2:\n",
    "    linked_list_2.append(i)\n",
    "\n",
    "    \n",
    "print('------Linked Lists------')    \n",
    "print(element_1)\n",
    "print(element_2)    \n",
    "    \n",
    "result1 = union(linked_list_1,linked_list_2)\n",
    "print('------Union result------')\n",
    "print(result1)    \n",
    "    \n",
    "result2 = intersection(linked_list_1,linked_list_2)\n",
    "print('------Intersection result------')\n",
    "print(result2)  "
   ]
  },
  {
   "cell_type": "code",
   "execution_count": 27,
   "metadata": {},
   "outputs": [
    {
     "name": "stdout",
     "output_type": "stream",
     "text": [
      "------Linked Lists------\n",
      "[3, 2, 4, 35, 6, 65, 6, 4, 3, 23]\n",
      "[1, 7, 8, 9, 11, 21, 1]\n",
      "------Union result------\n",
      "3 -> 2 -> 4 -> 35 -> 6 -> 65 -> 6 -> 4 -> 3 -> 23 -> 1 -> 7 -> 8 -> 9 -> 11 -> 21 -> 1\n",
      "------Intersection result------\n",
      "\n"
     ]
    }
   ],
   "source": [
    "# Test case 3\n",
    "\n",
    "linked_list_3 = LinkedList()\n",
    "linked_list_4 = LinkedList()\n",
    "\n",
    "element_3 = [3,2,4,35,6,65,6,4,3,23]\n",
    "element_4 = [1,7,8,9,11,21,1]\n",
    "\n",
    "for i in element_3:\n",
    "    linked_list_3.append(i)\n",
    "\n",
    "for i in element_4:\n",
    "    linked_list_4.append(i)\n",
    "\n",
    "print('------Linked Lists------')    \n",
    "print(element_3)\n",
    "print(element_4)    \n",
    "    \n",
    "result1 = union(linked_list_3,linked_list_4)\n",
    "print('------Union result------')\n",
    "print(result1)    \n",
    "    \n",
    "result2 = intersection(linked_list_3,linked_list_4)\n",
    "print('------Intersection result------')\n",
    "print(result2) "
   ]
  },
  {
   "cell_type": "code",
   "execution_count": null,
   "metadata": {},
   "outputs": [],
   "source": []
  }
 ],
 "metadata": {
  "kernelspec": {
   "display_name": "Python 3",
   "language": "python",
   "name": "python3"
  },
  "language_info": {
   "codemirror_mode": {
    "name": "ipython",
    "version": 3
   },
   "file_extension": ".py",
   "mimetype": "text/x-python",
   "name": "python",
   "nbconvert_exporter": "python",
   "pygments_lexer": "ipython3",
   "version": "3.7.4"
  }
 },
 "nbformat": 4,
 "nbformat_minor": 2
}
